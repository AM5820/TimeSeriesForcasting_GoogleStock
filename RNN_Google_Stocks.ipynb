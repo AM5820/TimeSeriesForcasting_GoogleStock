{
 "cells": [
  {
   "cell_type": "code",
   "execution_count": 1,
   "id": "146f59df",
   "metadata": {},
   "outputs": [],
   "source": [
    "import numpy as np\n",
    "import pandas as pd\n",
    "import matplotlib.pyplot as plt\n",
    "import seaborn as sns"
   ]
  },
  {
   "cell_type": "code",
   "execution_count": 2,
   "id": "03fe1eaf",
   "metadata": {},
   "outputs": [],
   "source": [
    "import tensorflow as tf\n",
    "from tensorflow.keras.models import Sequential,Model\n",
    "from tensorflow.keras.layers import LSTM,Dropout,Dense"
   ]
  },
  {
   "cell_type": "markdown",
   "id": "7d7b0222",
   "metadata": {},
   "source": [
    "## Data Preprocessing"
   ]
  },
  {
   "cell_type": "markdown",
   "id": "fba85b45",
   "metadata": {},
   "source": [
    "### reading dataset"
   ]
  },
  {
   "cell_type": "code",
   "execution_count": 3,
   "id": "fa3bec78",
   "metadata": {},
   "outputs": [
    {
     "data": {
      "text/html": [
       "<div>\n",
       "<style scoped>\n",
       "    .dataframe tbody tr th:only-of-type {\n",
       "        vertical-align: middle;\n",
       "    }\n",
       "\n",
       "    .dataframe tbody tr th {\n",
       "        vertical-align: top;\n",
       "    }\n",
       "\n",
       "    .dataframe thead th {\n",
       "        text-align: right;\n",
       "    }\n",
       "</style>\n",
       "<table border=\"1\" class=\"dataframe\">\n",
       "  <thead>\n",
       "    <tr style=\"text-align: right;\">\n",
       "      <th></th>\n",
       "      <th>Date</th>\n",
       "      <th>Open</th>\n",
       "      <th>High</th>\n",
       "      <th>Low</th>\n",
       "      <th>Close</th>\n",
       "      <th>Volume</th>\n",
       "    </tr>\n",
       "  </thead>\n",
       "  <tbody>\n",
       "    <tr>\n",
       "      <th>254</th>\n",
       "      <td>1/8/2013</td>\n",
       "      <td>366.40</td>\n",
       "      <td>366.78</td>\n",
       "      <td>360.86</td>\n",
       "      <td>731.29</td>\n",
       "      <td>3,364,700</td>\n",
       "    </tr>\n",
       "    <tr>\n",
       "      <th>547</th>\n",
       "      <td>3/10/2014</td>\n",
       "      <td>605.58</td>\n",
       "      <td>606.55</td>\n",
       "      <td>599.80</td>\n",
       "      <td>1,208.25</td>\n",
       "      <td>2,438,200</td>\n",
       "    </tr>\n",
       "    <tr>\n",
       "      <th>868</th>\n",
       "      <td>6/17/2015</td>\n",
       "      <td>529.37</td>\n",
       "      <td>530.98</td>\n",
       "      <td>525.10</td>\n",
       "      <td>529.26</td>\n",
       "      <td>1,294,200</td>\n",
       "    </tr>\n",
       "  </tbody>\n",
       "</table>\n",
       "</div>"
      ],
      "text/plain": [
       "          Date    Open    High     Low     Close     Volume\n",
       "254   1/8/2013  366.40  366.78  360.86    731.29  3,364,700\n",
       "547  3/10/2014  605.58  606.55  599.80  1,208.25  2,438,200\n",
       "868  6/17/2015  529.37  530.98  525.10    529.26  1,294,200"
      ]
     },
     "execution_count": 3,
     "metadata": {},
     "output_type": "execute_result"
    }
   ],
   "source": [
    "data = pd.read_csv('dataset/Google_Stock_Price_Train.csv')\n",
    "data.sample(3)"
   ]
  },
  {
   "cell_type": "code",
   "execution_count": 4,
   "id": "257537e7",
   "metadata": {},
   "outputs": [],
   "source": [
    "train_data = data.iloc[:,1:2].values"
   ]
  },
  {
   "cell_type": "code",
   "execution_count": 5,
   "id": "1d13b1bb",
   "metadata": {},
   "outputs": [
    {
     "data": {
      "text/plain": [
       "[<matplotlib.lines.Line2D at 0x278ab2f5908>]"
      ]
     },
     "execution_count": 5,
     "metadata": {},
     "output_type": "execute_result"
    },
    {
     "data": {
      "image/png": "[encoded data removed]",
      "text/plain": [
       "<Figure size 432x288 with 1 Axes>"
      ]
     },
     "metadata": {
      "needs_background": "light"
     },
     "output_type": "display_data"
    }
   ],
   "source": [
    "plt.plot(train_data)"
   ]
  },
  {
   "cell_type": "markdown",
   "id": "a3c175cf",
   "metadata": {},
   "source": [
    "### feature scaling"
   ]
  },
  {
   "cell_type": "code",
   "execution_count": 6,
   "id": "a225896c",
   "metadata": {},
   "outputs": [],
   "source": [
    "from sklearn.preprocessing import MinMaxScaler\n",
    "sc = MinMaxScaler()\n",
    "train_scaled = sc.fit_transform(train_data)"
   ]
  },
  {
   "cell_type": "markdown",
   "id": "956edacb",
   "metadata": {},
   "source": [
    "### creating datastructure with 60 timestamps and 1 output"
   ]
  },
  {
   "cell_type": "code",
   "execution_count": 7,
   "id": "f19ae215",
   "metadata": {},
   "outputs": [],
   "source": [
    "x_train = []\n",
    "y_train = []\n",
    "\n",
    "for i in range(60,len(train_scaled)):\n",
    "    x_train.append(train_scaled[i-60:i,0])\n",
    "    y_train.append(train_scaled[i,0])\n",
    "x_train , y_train = np.array(x_train) , np.array(y_train)"
   ]
  },
  {
   "cell_type": "markdown",
   "id": "ac285099",
   "metadata": {},
   "source": [
    "### reshaping -- add one more dimension"
   ]
  },
  {
   "cell_type": "code",
   "execution_count": 8,
   "id": "f5c6121f",
   "metadata": {},
   "outputs": [],
   "source": [
    "# add one more dimension for the predictors/indicators           -- (btach size , timestamps , (input_dim)predictors )\n",
    "x_train = np.reshape(x_train, ( x_train.shape[0] , x_train.shape[1] , 1 ))"
   ]
  },
  {
   "cell_type": "code",
   "execution_count": 9,
   "id": "cd3ad5aa",
   "metadata": {},
   "outputs": [
    {
     "data": {
      "text/plain": [
       "(1198, 60, 1)"
      ]
     },
     "execution_count": 9,
     "metadata": {},
     "output_type": "execute_result"
    }
   ],
   "source": [
    "x_train.shape"
   ]
  },
  {
   "cell_type": "markdown",
   "id": "ba3b7b5c",
   "metadata": {},
   "source": [
    "### Building LSTM"
   ]
  },
  {
   "cell_type": "code",
   "execution_count": 33,
   "id": "199781b7",
   "metadata": {},
   "outputs": [],
   "source": [
    "regressor = Sequential()\n",
    "\n",
    "# LSTM layer1\n",
    "regressor.add(LSTM(units = 50 , return_sequences=True , input_shape = (x_train.shape[1] , 1) ))\n",
    "regressor.add(Dropout(0.2))\n",
    "\n",
    "# LSTM layer2\n",
    "regressor.add(LSTM(units = 50 , return_sequences=True ))\n",
    "regressor.add(Dropout(0.2))\n",
    "\n",
    "# LSTM layer3\n",
    "regressor.add(LSTM(units = 50 , return_sequences=True ))\n",
    "regressor.add(Dropout(0.2))\n",
    "\n",
    "# LSTM layer4\n",
    "regressor.add(LSTM(units = 50 ))\n",
    "regressor.add(Dropout(0.2))\n",
    "\n",
    "# output layer\n",
    "regressor.add(Dense(units = 1))"
   ]
  },
  {
   "cell_type": "code",
   "execution_count": 52,
   "id": "e7bfbdc2",
   "metadata": {
    "collapsed": true
   },
   "outputs": [
    {
     "name": "stdout",
     "output_type": "stream",
     "text": [
      "Model: \"sequential_4\"\n",
      "_________________________________________________________________\n",
      "Layer (type)                 Output Shape              Param #   \n",
      "=================================================================\n",
      "lstm_10 (LSTM)               (None, 60, 50)            10400     \n",
      "_________________________________________________________________\n",
      "dropout_9 (Dropout)          (None, 60, 50)            0         \n",
      "_________________________________________________________________\n",
      "lstm_11 (LSTM)               (None, 60, 50)            20200     \n",
      "_________________________________________________________________\n",
      "dropout_10 (Dropout)         (None, 60, 50)            0         \n",
      "_________________________________________________________________\n",
      "lstm_12 (LSTM)               (None, 60, 50)            20200     \n",
      "_________________________________________________________________\n",
      "dropout_11 (Dropout)         (None, 60, 50)            0         \n",
      "_________________________________________________________________\n",
      "lstm_13 (LSTM)               (None, 50)                20200     \n",
      "_________________________________________________________________\n",
      "dropout_12 (Dropout)         (None, 50)                0         \n",
      "_________________________________________________________________\n",
      "dense (Dense)                (None, 1)                 51        \n",
      "=================================================================\n",
      "Total params: 71,051\n",
      "Trainable params: 71,051\n",
      "Non-trainable params: 0\n",
      "_________________________________________________________________\n"
     ]
    }
   ],
   "source": [
    "regressor.summary()"
   ]
  },
  {
   "cell_type": "code",
   "execution_count": 34,
   "id": "55f06630",
   "metadata": {},
   "outputs": [],
   "source": [
    "regressor.compile(optimizer='adam',loss='mean_squared_error')"
   ]
  },
  {
   "cell_type": "code",
   "execution_count": 35,
   "id": "56cf0208",
   "metadata": {
    "collapsed": true
   },
   "outputs": [
    {
     "name": "stdout",
     "output_type": "stream",
     "text": [
      "Epoch 1/100\n",
      "38/38 [==============================] - 19s 150ms/step - loss: 0.0416\n",
      "Epoch 2/100\n",
      "38/38 [==============================] - 5s 139ms/step - loss: 0.0063\n",
      "Epoch 3/100\n",
      "38/38 [==============================] - 5s 134ms/step - loss: 0.0053\n",
      "Epoch 4/100\n",
      "38/38 [==============================] - 5s 130ms/step - loss: 0.0061\n",
      "Epoch 5/100\n",
      "38/38 [==============================] - 5s 127ms/step - loss: 0.0049\n",
      "Epoch 6/100\n",
      "38/38 [==============================] - 5s 130ms/step - loss: 0.0046\n",
      "Epoch 7/100\n",
      "38/38 [==============================] - 5s 131ms/step - loss: 0.0050\n",
      "Epoch 8/100\n",
      "38/38 [==============================] - 5s 135ms/step - loss: 0.0059\n",
      "Epoch 9/100\n",
      "38/38 [==============================] - 6s 145ms/step - loss: 0.0047\n",
      "Epoch 10/100\n",
      "38/38 [==============================] - 5s 131ms/step - loss: 0.0045\n",
      "Epoch 11/100\n",
      "38/38 [==============================] - 5s 125ms/step - loss: 0.0047\n",
      "Epoch 12/100\n",
      "38/38 [==============================] - 5s 134ms/step - loss: 0.0042\n",
      "Epoch 13/100\n",
      "38/38 [==============================] - 5s 125ms/step - loss: 0.0043\n",
      "Epoch 14/100\n",
      "38/38 [==============================] - 5s 133ms/step - loss: 0.0036\n",
      "Epoch 15/100\n",
      "38/38 [==============================] - 5s 130ms/step - loss: 0.0037\n",
      "Epoch 16/100\n",
      "38/38 [==============================] - 5s 142ms/step - loss: 0.0038\n",
      "Epoch 17/100\n",
      "38/38 [==============================] - 6s 146ms/step - loss: 0.0037\n",
      "Epoch 18/100\n",
      "38/38 [==============================] - 5s 143ms/step - loss: 0.0036\n",
      "Epoch 19/100\n",
      "38/38 [==============================] - 5s 118ms/step - loss: 0.0034 1\n",
      "Epoch 20/100\n",
      "38/38 [==============================] - 4s 104ms/step - loss: 0.0032\n",
      "Epoch 21/100\n",
      "38/38 [==============================] - 4s 105ms/step - loss: 0.0034\n",
      "Epoch 22/100\n",
      "38/38 [==============================] - 5s 133ms/step - loss: 0.0035\n",
      "Epoch 23/100\n",
      "38/38 [==============================] - 6s 151ms/step - loss: 0.0037\n",
      "Epoch 24/100\n",
      "38/38 [==============================] - 6s 144ms/step - loss: 0.0035\n",
      "Epoch 25/100\n",
      "38/38 [==============================] - 5s 138ms/step - loss: 0.0032\n",
      "Epoch 26/100\n",
      "38/38 [==============================] - 7s 174ms/step - loss: 0.0029\n",
      "Epoch 27/100\n",
      "38/38 [==============================] - 5s 136ms/step - loss: 0.0031\n",
      "Epoch 28/100\n",
      "38/38 [==============================] - 6s 162ms/step - loss: 0.0033\n",
      "Epoch 29/100\n",
      "38/38 [==============================] - 6s 147ms/step - loss: 0.0030\n",
      "Epoch 30/100\n",
      "38/38 [==============================] - 6s 153ms/step - loss: 0.0030\n",
      "Epoch 31/100\n",
      "38/38 [==============================] - 6s 146ms/step - loss: 0.0028\n",
      "Epoch 32/100\n",
      "38/38 [==============================] - 5s 136ms/step - loss: 0.0028\n",
      "Epoch 33/100\n",
      "38/38 [==============================] - 5s 139ms/step - loss: 0.0028\n",
      "Epoch 34/100\n",
      "38/38 [==============================] - 6s 167ms/step - loss: 0.0029\n",
      "Epoch 35/100\n",
      "38/38 [==============================] - 7s 173ms/step - loss: 0.0030\n",
      "Epoch 36/100\n",
      "38/38 [==============================] - 6s 158ms/step - loss: 0.0026\n",
      "Epoch 37/100\n",
      "38/38 [==============================] - 6s 162ms/step - loss: 0.0030\n",
      "Epoch 38/100\n",
      "38/38 [==============================] - 6s 160ms/step - loss: 0.0027\n",
      "Epoch 39/100\n",
      "38/38 [==============================] - 6s 149ms/step - loss: 0.0026\n",
      "Epoch 40/100\n",
      "38/38 [==============================] - 6s 159ms/step - loss: 0.0026\n",
      "Epoch 41/100\n",
      "38/38 [==============================] - 6s 164ms/step - loss: 0.0030\n",
      "Epoch 42/100\n",
      "38/38 [==============================] - 6s 166ms/step - loss: 0.0028 1s - loss:\n",
      "Epoch 43/100\n",
      "38/38 [==============================] - 6s 154ms/step - loss: 0.0028\n",
      "Epoch 44/100\n",
      "38/38 [==============================] - 6s 157ms/step - loss: 0.0026\n",
      "Epoch 45/100\n",
      "38/38 [==============================] - 6s 159ms/step - loss: 0.0029 1s - los\n",
      "Epoch 46/100\n",
      "38/38 [==============================] - 6s 171ms/step - loss: 0.0023 0s - loss: 0.00\n",
      "Epoch 47/100\n",
      "38/38 [==============================] - 7s 184ms/step - loss: 0.0022\n",
      "Epoch 48/100\n",
      "38/38 [==============================] - 6s 151ms/step - loss: 0.0025\n",
      "Epoch 49/100\n",
      "38/38 [==============================] - 6s 169ms/step - loss: 0.0024 2s - loss: 0.002 - ETA: 1s - \n",
      "Epoch 50/100\n",
      "38/38 [==============================] - 6s 169ms/step - loss: 0.0022 1s - l\n",
      "Epoch 51/100\n",
      "38/38 [==============================] - 5s 135ms/step - loss: 0.0021\n",
      "Epoch 52/100\n",
      "38/38 [==============================] - 5s 137ms/step - loss: 0.0023\n",
      "Epoch 53/100\n",
      "38/38 [==============================] - 6s 147ms/step - loss: 0.0022\n",
      "Epoch 54/100\n",
      "38/38 [==============================] - 6s 146ms/step - loss: 0.0026\n",
      "Epoch 55/100\n",
      "38/38 [==============================] - 6s 154ms/step - loss: 0.0024\n",
      "Epoch 56/100\n",
      "38/38 [==============================] - 5s 134ms/step - loss: 0.0023\n",
      "Epoch 57/100\n",
      "38/38 [==============================] - 6s 166ms/step - loss: 0.0020\n",
      "Epoch 58/100\n",
      "38/38 [==============================] - 5s 133ms/step - loss: 0.0020\n",
      "Epoch 59/100\n",
      "38/38 [==============================] - 6s 159ms/step - loss: 0.0022\n",
      "Epoch 60/100\n",
      "38/38 [==============================] - 5s 129ms/step - loss: 0.0020\n",
      "Epoch 61/100\n",
      "38/38 [==============================] - 6s 152ms/step - loss: 0.0024 1s -\n",
      "Epoch 62/100\n",
      "38/38 [==============================] - 6s 158ms/step - loss: 0.0020\n",
      "Epoch 63/100\n",
      "38/38 [==============================] - 5s 138ms/step - loss: 0.0023\n",
      "Epoch 64/100\n",
      "38/38 [==============================] - 5s 132ms/step - loss: 0.0021\n",
      "Epoch 65/100\n",
      "38/38 [==============================] - 6s 153ms/step - loss: 0.0020\n",
      "Epoch 66/100\n",
      "38/38 [==============================] - 6s 167ms/step - loss: 0.0018\n",
      "Epoch 67/100\n",
      "38/38 [==============================] - 5s 143ms/step - loss: 0.0018\n",
      "Epoch 68/100\n",
      "38/38 [==============================] - 6s 160ms/step - loss: 0.0019\n",
      "Epoch 69/100\n",
      "38/38 [==============================] - 5s 137ms/step - loss: 0.0022\n",
      "Epoch 70/100\n",
      "38/38 [==============================] - 5s 143ms/step - loss: 0.0019\n",
      "Epoch 71/100\n",
      "38/38 [==============================] - 7s 191ms/step - loss: 0.0020 2s - \n",
      "Epoch 72/100\n",
      "38/38 [==============================] - 7s 193ms/step - loss: 0.0018\n",
      "Epoch 73/100\n",
      "38/38 [==============================] - 7s 175ms/step - loss: 0.0019\n",
      "Epoch 74/100\n",
      "38/38 [==============================] - 5s 130ms/step - loss: 0.0019\n",
      "Epoch 75/100\n",
      "38/38 [==============================] - 4s 118ms/step - loss: 0.0017\n",
      "Epoch 76/100\n",
      "38/38 [==============================] - 4s 113ms/step - loss: 0.0020\n",
      "Epoch 77/100\n",
      "38/38 [==============================] - 5s 126ms/step - loss: 0.0016\n",
      "Epoch 78/100\n",
      "38/38 [==============================] - 6s 149ms/step - loss: 0.0016\n",
      "Epoch 79/100\n",
      "38/38 [==============================] - 5s 120ms/step - loss: 0.0017\n",
      "Epoch 80/100\n",
      "38/38 [==============================] - 7s 191ms/step - loss: 0.0015\n",
      "Epoch 81/100\n",
      "38/38 [==============================] - 8s 203ms/step - loss: 0.0017\n",
      "Epoch 82/100\n",
      "38/38 [==============================] - 8s 200ms/step - loss: 0.0015 2s \n",
      "Epoch 83/100\n",
      "38/38 [==============================] - 6s 158ms/step - loss: 0.0017\n",
      "Epoch 84/100\n",
      "38/38 [==============================] - 6s 151ms/step - loss: 0.0018\n",
      "Epoch 85/100\n",
      "38/38 [==============================] - 6s 159ms/step - loss: 0.0016\n",
      "Epoch 86/100\n",
      "38/38 [==============================] - 5s 140ms/step - loss: 0.0017\n",
      "Epoch 87/100\n",
      "38/38 [==============================] - 5s 141ms/step - loss: 0.0017\n",
      "Epoch 88/100\n",
      "38/38 [==============================] - 5s 125ms/step - loss: 0.0017\n",
      "Epoch 89/100\n",
      "38/38 [==============================] - 5s 132ms/step - loss: 0.0015\n",
      "Epoch 90/100\n",
      "38/38 [==============================] - 5s 119ms/step - loss: 0.0016\n",
      "Epoch 91/100\n",
      "38/38 [==============================] - 5s 119ms/step - loss: 0.0015\n",
      "Epoch 92/100\n",
      "38/38 [==============================] - 5s 134ms/step - loss: 0.0014\n",
      "Epoch 93/100\n",
      "38/38 [==============================] - 6s 164ms/step - loss: 0.0015\n",
      "Epoch 94/100\n",
      "38/38 [==============================] - 6s 146ms/step - loss: 0.0015\n",
      "Epoch 95/100\n",
      "38/38 [==============================] - 6s 154ms/step - loss: 0.0014\n",
      "Epoch 96/100\n",
      "38/38 [==============================] - 5s 133ms/step - loss: 0.0016\n",
      "Epoch 97/100\n",
      "38/38 [==============================] - 6s 149ms/step - loss: 0.0015\n",
      "Epoch 98/100\n"
     ]
    },
    {
     "name": "stdout",
     "output_type": "stream",
     "text": [
      "38/38 [==============================] - 6s 158ms/step - loss: 0.0013\n",
      "Epoch 99/100\n",
      "38/38 [==============================] - 6s 159ms/step - loss: 0.0015\n",
      "Epoch 100/100\n",
      "38/38 [==============================] - 6s 164ms/step - loss: 0.0014\n"
     ]
    },
    {
     "data": {
      "text/plain": [
       "<tensorflow.python.keras.callbacks.History at 0x278ad32f940>"
      ]
     },
     "execution_count": 35,
     "metadata": {},
     "output_type": "execute_result"
    }
   ],
   "source": [
    "regressor.fit(x_train,y_train,epochs=100,batch_size=32)"
   ]
  },
  {
   "cell_type": "markdown",
   "id": "3c8b4cb5",
   "metadata": {},
   "source": [
    "### Evaluating"
   ]
  },
  {
   "cell_type": "code",
   "execution_count": 11,
   "id": "f7a51280",
   "metadata": {},
   "outputs": [
    {
     "data": {
      "text/html": [
       "<div>\n",
       "<style scoped>\n",
       "    .dataframe tbody tr th:only-of-type {\n",
       "        vertical-align: middle;\n",
       "    }\n",
       "\n",
       "    .dataframe tbody tr th {\n",
       "        vertical-align: top;\n",
       "    }\n",
       "\n",
       "    .dataframe thead th {\n",
       "        text-align: right;\n",
       "    }\n",
       "</style>\n",
       "<table border=\"1\" class=\"dataframe\">\n",
       "  <thead>\n",
       "    <tr style=\"text-align: right;\">\n",
       "      <th></th>\n",
       "      <th>Date</th>\n",
       "      <th>Open</th>\n",
       "      <th>High</th>\n",
       "      <th>Low</th>\n",
       "      <th>Close</th>\n",
       "      <th>Volume</th>\n",
       "    </tr>\n",
       "  </thead>\n",
       "  <tbody>\n",
       "    <tr>\n",
       "      <th>4</th>\n",
       "      <td>1/9/2017</td>\n",
       "      <td>806.40</td>\n",
       "      <td>809.97</td>\n",
       "      <td>802.83</td>\n",
       "      <td>806.65</td>\n",
       "      <td>1,272,400</td>\n",
       "    </tr>\n",
       "    <tr>\n",
       "      <th>7</th>\n",
       "      <td>1/12/2017</td>\n",
       "      <td>807.14</td>\n",
       "      <td>807.39</td>\n",
       "      <td>799.17</td>\n",
       "      <td>806.36</td>\n",
       "      <td>1,353,100</td>\n",
       "    </tr>\n",
       "  </tbody>\n",
       "</table>\n",
       "</div>"
      ],
      "text/plain": [
       "        Date    Open    High     Low   Close     Volume\n",
       "4   1/9/2017  806.40  809.97  802.83  806.65  1,272,400\n",
       "7  1/12/2017  807.14  807.39  799.17  806.36  1,353,100"
      ]
     },
     "execution_count": 11,
     "metadata": {},
     "output_type": "execute_result"
    }
   ],
   "source": [
    "test_data = pd.read_csv('dataset/Google_Stock_Price_Test.csv')\n",
    "test_data.sample(2)"
   ]
  },
  {
   "cell_type": "markdown",
   "id": "878de5d8",
   "metadata": {},
   "source": [
    "#### test_data preprocessing"
   ]
  },
  {
   "cell_type": "code",
   "execution_count": 12,
   "id": "6a313335",
   "metadata": {},
   "outputs": [],
   "source": [
    "tf = pd.concat([data.Open,test_data.Open],axis=0)\n",
    "tf.index = np.arange(0,len(tf))"
   ]
  },
  {
   "cell_type": "code",
   "execution_count": 15,
   "id": "aec90ff9",
   "metadata": {},
   "outputs": [],
   "source": [
    "inputs = tf[len(tf)-len(test_data)-60:].values"
   ]
  },
  {
   "cell_type": "code",
   "execution_count": 19,
   "id": "c206ca28",
   "metadata": {},
   "outputs": [],
   "source": [
    "inputs = inputs.reshape(-1,1)"
   ]
  },
  {
   "cell_type": "code",
   "execution_count": 20,
   "id": "20e71833",
   "metadata": {},
   "outputs": [],
   "source": [
    "inputs = sc.transform(inputs)"
   ]
  },
  {
   "cell_type": "code",
   "execution_count": 28,
   "id": "19d9a275",
   "metadata": {},
   "outputs": [],
   "source": [
    "x_test = []\n",
    "y_test = []\n",
    "\n",
    "for i in range(60,len(inputs)):\n",
    "    x_test.append( inputs[i-60:i,0] )\n",
    "    y_test.append(inputs[i,0])\n",
    "    \n",
    "x_test , y_test = np.array(x_test) , np.array(y_test)"
   ]
  },
  {
   "cell_type": "code",
   "execution_count": 39,
   "id": "81e207eb",
   "metadata": {},
   "outputs": [],
   "source": [
    "# add one more dimension for the predictors/indicators           -- (btach size , timestamps , (input_dim)predictors )\n",
    "x_test = np.reshape(x_test, ( x_test.shape[0] , x_test.shape[1] , 1 ))"
   ]
  },
  {
   "cell_type": "markdown",
   "id": "4bc9faac",
   "metadata": {},
   "source": [
    "### prediction"
   ]
  },
  {
   "cell_type": "code",
   "execution_count": 48,
   "id": "e2fc5669",
   "metadata": {},
   "outputs": [],
   "source": [
    "y_pred = regressor.predict(x_test)\n",
    "y_pred = sc.inverse_transform(y_pred)"
   ]
  },
  {
   "cell_type": "code",
   "execution_count": 75,
   "id": "76373854",
   "metadata": {
    "scrolled": false
   },
   "outputs": [
    {
     "data": {
      "image/png": "[encoded data removed]",
      "text/plain": [
       "<Figure size 720x504 with 1 Axes>"
      ]
     },
     "metadata": {
      "needs_background": "light"
     },
     "output_type": "display_data"
    }
   ],
   "source": [
    "plt.figure(figsize=(10,7))\n",
    "plt.plot(test_data.Open,label='Real_stock_prices')\n",
    "plt.plot(y_pred,label='pred_stock_prices')\n",
    "plt.legend()\n",
    "plt.title('Google Stock Prices Prediction')\n",
    "plt.xlabel('Time')\n",
    "plt.ylabel('Stock Price')\n",
    "plt.show()"
   ]
  },
  {
   "cell_type": "code",
   "execution_count": null,
   "id": "ca2dd6ae",
   "metadata": {},
   "outputs": [],
   "source": []
  }
 ],
 "metadata": {
  "kernelspec": {
   "display_name": "Python 3",
   "language": "python",
   "name": "python3"
  },
  "language_info": {
   "codemirror_mode": {
    "name": "ipython",
    "version": 3
   },
   "file_extension": ".py",
   "mimetype": "text/x-python",
   "name": "python",
   "nbconvert_exporter": "python",
   "pygments_lexer": "ipython3",
   "version": "3.7.2"
  }
 },
 "nbformat": 4,
 "nbformat_minor": 5
}
